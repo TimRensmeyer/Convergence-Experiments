{
 "cells": [
  {
   "cell_type": "code",
   "execution_count": null,
   "metadata": {},
   "outputs": [],
   "source": [
    "import torch\n",
    "import torch.nn as nn\n",
    "import numpy as np\n",
    "from PSGLD_Rescaled import Metric\n",
    "\n",
    "class model(nn.Module):\n",
    "    def __init__(self,starting_value):\n",
    "        super(model,self).__init__()\n",
    "        theta=torch.FloatTensor((starting_value,))\n",
    "        self.theta=nn.Parameter(theta)\n",
    "    \n",
    "    def log_posterior(self):\n",
    "        return -0.5*self.theta**2 -0.5*torch.log(torch.tensor((2*3.14159,)))\n",
    "    \n",
    "m=model(0.1)\n",
    "from PSGLD_Rescaled import Fixed_PSGLD\n",
    "\n",
    "optim=Fixed_PSGLD(model=m,a=1,lamb=1e-1,alpha=0.9,stepsize=0.0000025)\n",
    "bins=np.zeros(shape=(41))\n",
    "samples=[]\n",
    "for step in range(800000000):\n",
    "        lp=m.log_posterior()\n",
    "        lp.backward(create_graph=True,retain_graph=True)\n",
    "        optim.step(m)\n",
    "        del lp\n",
    "\n",
    "        sample=m.theta.item()\n",
    "        samples.append(sample)\n",
    "        bin_int=int(sample*10)\n",
    "        # Correcting for int rounding up below zero and down above zero   \n",
    "        if sample<0:\n",
    "             bin_int+=20\n",
    "        else:\n",
    "             bin_int+=21         \n",
    "        if bin_int>=0 and bin_int<41:\n",
    "            bins[bin_int]+=1\n",
    "import matplotlib.pyplot as plt\n",
    "axis=np.linspace(-2,2,41)\n",
    "est_dens=bins/(800000000*0.1)\n",
    "fine_axis=np.linspace(-2,2,400)\n",
    "#pred_dens=1.912/(2*3.141593)**0.5*np.exp(-0.5*fine_axis**2)*np.exp(-np.abs(fine_axis))*(1e-8+np.abs(fine_axis))**(1e-8)\n",
    "target_dens=1/(2*3.141593)**0.5*np.exp(-0.5*fine_axis**2)\n",
    "plt.step(axis, est_dens,label=r'$\\hat{\\pi}(\\theta)$',color='black')\n",
    "#plt.plot(fine_axis,pred_dens,label=r'$\\pi(\\theta)$',color='black',linestyle='dotted')\n",
    "plt.plot(fine_axis,target_dens,label=r'$p(\\theta|D)$',color='black',linestyle='dashed')"
   ]
  }
 ],
 "metadata": {
  "kernelspec": {
   "display_name": "base",
   "language": "python",
   "name": "python3"
  },
  "language_info": {
   "codemirror_mode": {
    "name": "ipython",
    "version": 3
   },
   "file_extension": ".py",
   "mimetype": "text/x-python",
   "name": "python",
   "nbconvert_exporter": "python",
   "pygments_lexer": "ipython3",
   "version": "3.8.8"
  }
 },
 "nbformat": 4,
 "nbformat_minor": 2
}
